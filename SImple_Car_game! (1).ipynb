{
  "nbformat": 4,
  "nbformat_minor": 0,
  "metadata": {
    "colab": {
      "name": "SImple Car game!",
      "provenance": []
    },
    "kernelspec": {
      "name": "python3",
      "display_name": "Python 3"
    }
  },
  "cells": [
    {
      "cell_type": "markdown",
      "metadata": {
        "id": "upp85F6HaLHu",
        "colab_type": "text"
      },
      "source": [
        "**Simple Car game using Python on Google Colab!**"
      ]
    },
    {
      "cell_type": "markdown",
      "metadata": {
        "id": "kDSbh1amUqRT",
        "colab_type": "text"
      },
      "source": [
        "START - Start the car\n",
        "\n",
        "STOP - Stop the car\n",
        "\n",
        "QUIT - To Exit\n",
        "\n",
        "Any other command - Show error - \"I don't understand\"\n"
      ]
    },
    {
      "cell_type": "code",
      "metadata": {
        "id": "MXMb7OurUpwy",
        "colab_type": "code",
        "colab": {
          "base_uri": "https://localhost:8080/",
          "height": 34
        },
        "outputId": "c75f59ef-5c34-46d5-bc43-d270475009f8"
      },
      "source": [
        "Command = input(\"Enter the command : \")"
      ],
      "execution_count": 5,
      "outputs": [
        {
          "output_type": "stream",
          "text": [
            "Enter the command : Quit\n"
          ],
          "name": "stdout"
        }
      ]
    },
    {
      "cell_type": "code",
      "metadata": {
        "id": "-1-tsPM_VUNi",
        "colab_type": "code",
        "colab": {
          "base_uri": "https://localhost:8080/",
          "height": 34
        },
        "outputId": "5692cd85-8839-45b9-a7ac-e050433f17bb"
      },
      "source": [
        "while Command.upper() != \"QUIT\":\n",
        "  if Command.upper()=='START':\n",
        "    print(\"The car will start! \")\n",
        "    break\n",
        "  elif Command.upper()=='STOP':\n",
        "    break\n",
        "    print(\"The Car will Stop\") \n",
        "  else:\n",
        "    print(\"I do not understand!\")\n",
        "    break\n",
        "else: \n",
        "  print(\"You selected to exit! \")"
      ],
      "execution_count": 8,
      "outputs": [
        {
          "output_type": "stream",
          "text": [
            "You selected to exit! \n"
          ],
          "name": "stdout"
        }
      ]
    }
  ]
}